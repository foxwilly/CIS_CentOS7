{
  "nbformat": 4,
  "nbformat_minor": 0,
  "metadata": {
    "colab": {
      "provenance": [],
      "authorship_tag": "ABX9TyPGVjlzZHzgMnh4apQteXje",
      "include_colab_link": true
    },
    "kernelspec": {
      "name": "python3",
      "display_name": "Python 3"
    },
    "language_info": {
      "name": "python"
    }
  },
  "cells": [
    {
      "cell_type": "markdown",
      "metadata": {
        "id": "view-in-github",
        "colab_type": "text"
      },
      "source": [
        "<a href=\"https://colab.research.google.com/github/foxwilly/CIS_CentOS7/blob/master/firstNN.ipynb\" target=\"_parent\"><img src=\"https://colab.research.google.com/assets/colab-badge.svg\" alt=\"Open In Colab\"/></a>"
      ]
    },
    {
      "cell_type": "markdown",
      "source": [
        "# Simple code using NN to predict the nuber of reboots base on temperature(F)"
      ],
      "metadata": {
        "id": "Erdp1RJdQjEu"
      }
    },
    {
      "cell_type": "code",
      "metadata": {
        "id": "Hy_pAhzDZ4gy"
      },
      "source": [
        "import tensorflow as tf\n",
        "import numpy as np"
      ],
      "execution_count": 12,
      "outputs": []
    },
    {
      "cell_type": "markdown",
      "source": [
        "Define the input and output data arrays"
      ],
      "metadata": {
        "id": "3KoCNi0lRPit"
      }
    },
    {
      "cell_type": "code",
      "source": [
        "temperature = np.array([68,77,86,95,104,113,122,131,140,149,158,167,176,185,194,203], dtype=float)\n",
        "reboots = np.array([0,1,2,4,6,8,10,12,15,20,25,30,35,40,45,50], dtype=float)"
      ],
      "metadata": {
        "id": "nuHupvEgRSXm"
      },
      "execution_count": 13,
      "outputs": []
    },
    {
      "cell_type": "markdown",
      "source": [
        "Define the layers and the data model"
      ],
      "metadata": {
        "id": "mcPz3MAUQw4V"
      }
    },
    {
      "cell_type": "code",
      "source": [
        "layer1 = tf.keras.layers.Dense(units=3, input_shape=[1])\n",
        "layer2 = tf.keras.layers.Dense(units=3)\n",
        "output = tf.keras.layers.Dense(units=1)\n",
        "model = tf.keras.Sequential([layer1, layer2, output])\n"
      ],
      "metadata": {
        "id": "AnyuHZqvQ5uS"
      },
      "execution_count": 21,
      "outputs": []
    },
    {
      "cell_type": "markdown",
      "source": [
        "define algorithm to adjust the weigth"
      ],
      "metadata": {
        "id": "oXz1JtRoQ_ag"
      }
    },
    {
      "cell_type": "markdown",
      "source": [],
      "metadata": {
        "id": "dnfnz5e4-8Pn"
      }
    },
    {
      "cell_type": "code",
      "source": [
        "model.compile(\n",
        "    optimizer=tf.keras.optimizers.Adam(0.1),\n",
        "    loss='mean_squared_error'\n",
        ")"
      ],
      "metadata": {
        "id": "IIC--Wp-REgP"
      },
      "execution_count": 22,
      "outputs": []
    },
    {
      "cell_type": "code",
      "source": [
        "print(\"training...\")\n",
        "historial = model.fit(temperature, reboots, epochs=1000, verbose=False)\n",
        "print(\"Model trained!\")"
      ],
      "metadata": {
        "colab": {
          "base_uri": "https://localhost:8080/"
        },
        "id": "BwlLdMvZYYMz",
        "outputId": "86f1c412-ffde-4d55-8e9f-ca4ece27e3e9"
      },
      "execution_count": 23,
      "outputs": [
        {
          "output_type": "stream",
          "name": "stdout",
          "text": [
            "training...\n",
            "Model trained!\n"
          ]
        }
      ]
    },
    {
      "cell_type": "code",
      "source": [
        "import matplotlib.pyplot as plt\n",
        "plt.xlabel(\"# Epoch\")\n",
        "plt.ylabel(\"Loss mesure\")\n",
        "plt.plot(historial.history[\"loss\"])"
      ],
      "metadata": {
        "colab": {
          "base_uri": "https://localhost:8080/",
          "height": 467
        },
        "id": "fwuin7KaYeAs",
        "outputId": "fd4e7bff-6502-4463-81ee-7c53627e65d9"
      },
      "execution_count": 24,
      "outputs": [
        {
          "output_type": "execute_result",
          "data": {
            "text/plain": [
              "[<matplotlib.lines.Line2D at 0x7f7799e9ae60>]"
            ]
          },
          "metadata": {},
          "execution_count": 24
        },
        {
          "output_type": "display_data",
          "data": {
            "text/plain": [
              "<Figure size 640x480 with 1 Axes>"
            ],
            "image/png": "[encoded data removed]"
          },
          "metadata": {}
        }
      ]
    },
    {
      "cell_type": "code",
      "source": [
        "print(\"Variables internas del modelo\")\n",
        "print(layer1.get_weights())"
      ],
      "metadata": {
        "colab": {
          "base_uri": "https://localhost:8080/"
        },
        "id": "76tGVFo5Y04m",
        "outputId": "0d5eb12f-7b60-4a26-fce3-7a478aa46245"
      },
      "execution_count": 26,
      "outputs": [
        {
          "output_type": "stream",
          "name": "stdout",
          "text": [
            "Variables internas del modelo\n",
            "[array([[-0.09696338,  0.18665387, -0.14256656]], dtype=float32), array([ 6.144733 , -5.909709 ,  6.1198707], dtype=float32)]\n"
          ]
        }
      ]
    },
    {
      "cell_type": "markdown",
      "source": [
        "make the predition"
      ],
      "metadata": {
        "id": "cMH7ReXibmzT"
      }
    },
    {
      "cell_type": "code",
      "source": [
        "print(\"Prediction!\")\n",
        "resultado = model.predict([100.0])\n",
        "print(\"The result is \" + str(resultado) + \" reboots!\")"
      ],
      "metadata": {
        "colab": {
          "base_uri": "https://localhost:8080/"
        },
        "id": "fwnn2SDFbrZb",
        "outputId": "a3eddff6-e5f0-405b-a32a-eaa7740a4d8a"
      },
      "execution_count": 27,
      "outputs": [
        {
          "output_type": "stream",
          "name": "stdout",
          "text": [
            "Prediction!\n",
            "1/1 [==============================] - 0s 73ms/step\n",
            "The result is [[5.566996]] reboots!\n"
          ]
        }
      ]
    }
  ]
}